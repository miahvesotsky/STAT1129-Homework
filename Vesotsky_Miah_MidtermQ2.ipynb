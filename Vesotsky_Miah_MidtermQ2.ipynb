{
 "cells": [
  {
   "cell_type": "code",
   "execution_count": 3,
   "id": "597401f3",
   "metadata": {
    "scrolled": true
   },
   "outputs": [
    {
     "data": {
      "text/html": [
       "<div>\n",
       "<style scoped>\n",
       "    .dataframe tbody tr th:only-of-type {\n",
       "        vertical-align: middle;\n",
       "    }\n",
       "\n",
       "    .dataframe tbody tr th {\n",
       "        vertical-align: top;\n",
       "    }\n",
       "\n",
       "    .dataframe thead th {\n",
       "        text-align: right;\n",
       "    }\n",
       "</style>\n",
       "<table border=\"1\" class=\"dataframe\">\n",
       "  <thead>\n",
       "    <tr style=\"text-align: right;\">\n",
       "      <th></th>\n",
       "      <th>Episode Name</th>\n",
       "      <th>Series Name</th>\n",
       "      <th>Season</th>\n",
       "      <th>Last Played At</th>\n",
       "    </tr>\n",
       "  </thead>\n",
       "  <tbody>\n",
       "    <tr>\n",
       "      <th>0</th>\n",
       "      <td>Great Expectations</td>\n",
       "      <td>Law &amp; Order: Special Victims Unit</td>\n",
       "      <td>18.0</td>\n",
       "      <td>3/22/23 21:04</td>\n",
       "    </tr>\n",
       "    <tr>\n",
       "      <th>1</th>\n",
       "      <td>Net Worth</td>\n",
       "      <td>Law &amp; Order: Special Victims Unit</td>\n",
       "      <td>18.0</td>\n",
       "      <td>3/22/23 21:04</td>\n",
       "    </tr>\n",
       "    <tr>\n",
       "      <th>2</th>\n",
       "      <td>Genes</td>\n",
       "      <td>Law &amp; Order: Special Victims Unit</td>\n",
       "      <td>18.0</td>\n",
       "      <td>3/22/23 20:42</td>\n",
       "    </tr>\n",
       "    <tr>\n",
       "      <th>3</th>\n",
       "      <td>No Surrender</td>\n",
       "      <td>Law &amp; Order: Special Victims Unit</td>\n",
       "      <td>18.0</td>\n",
       "      <td>3/22/23 20:40</td>\n",
       "    </tr>\n",
       "    <tr>\n",
       "      <th>4</th>\n",
       "      <td>Motherly Love</td>\n",
       "      <td>Law &amp; Order: Special Victims Unit</td>\n",
       "      <td>18.0</td>\n",
       "      <td>3/22/23 19:48</td>\n",
       "    </tr>\n",
       "    <tr>\n",
       "      <th>...</th>\n",
       "      <td>...</td>\n",
       "      <td>...</td>\n",
       "      <td>...</td>\n",
       "      <td>...</td>\n",
       "    </tr>\n",
       "    <tr>\n",
       "      <th>101</th>\n",
       "      <td>Nothing Good Ever Happens After 2 A.M.</td>\n",
       "      <td>How I Met Your Mother</td>\n",
       "      <td>1.0</td>\n",
       "      <td>2/2/23 3:44</td>\n",
       "    </tr>\n",
       "    <tr>\n",
       "      <th>102</th>\n",
       "      <td>Life Among the Gorillas</td>\n",
       "      <td>How I Met Your Mother</td>\n",
       "      <td>1.0</td>\n",
       "      <td>2/2/23 3:18</td>\n",
       "    </tr>\n",
       "    <tr>\n",
       "      <th>103</th>\n",
       "      <td>Cupcake</td>\n",
       "      <td>How I Met Your Mother</td>\n",
       "      <td>1.0</td>\n",
       "      <td>2/1/23 4:43</td>\n",
       "    </tr>\n",
       "    <tr>\n",
       "      <th>104</th>\n",
       "      <td>Game Night</td>\n",
       "      <td>How I Met Your Mother</td>\n",
       "      <td>1.0</td>\n",
       "      <td>2/1/23 4:20</td>\n",
       "    </tr>\n",
       "    <tr>\n",
       "      <th>105</th>\n",
       "      <td>Zip, Zip, Zip</td>\n",
       "      <td>How I Met Your Mother</td>\n",
       "      <td>1.0</td>\n",
       "      <td>2/1/23 3:55</td>\n",
       "    </tr>\n",
       "  </tbody>\n",
       "</table>\n",
       "<p>106 rows × 4 columns</p>\n",
       "</div>"
      ],
      "text/plain": [
       "                               Episode Name  \\\n",
       "0                        Great Expectations   \n",
       "1                                 Net Worth   \n",
       "2                                     Genes   \n",
       "3                              No Surrender   \n",
       "4                             Motherly Love   \n",
       "..                                      ...   \n",
       "101  Nothing Good Ever Happens After 2 A.M.   \n",
       "102                 Life Among the Gorillas   \n",
       "103                                 Cupcake   \n",
       "104                              Game Night   \n",
       "105                           Zip, Zip, Zip   \n",
       "\n",
       "                           Series Name  Season Last Played At  \n",
       "0    Law & Order: Special Victims Unit    18.0  3/22/23 21:04  \n",
       "1    Law & Order: Special Victims Unit    18.0  3/22/23 21:04  \n",
       "2    Law & Order: Special Victims Unit    18.0  3/22/23 20:42  \n",
       "3    Law & Order: Special Victims Unit    18.0  3/22/23 20:40  \n",
       "4    Law & Order: Special Victims Unit    18.0  3/22/23 19:48  \n",
       "..                                 ...     ...            ...  \n",
       "101              How I Met Your Mother     1.0    2/2/23 3:44  \n",
       "102              How I Met Your Mother     1.0    2/2/23 3:18  \n",
       "103              How I Met Your Mother     1.0    2/1/23 4:43  \n",
       "104              How I Met Your Mother     1.0    2/1/23 4:20  \n",
       "105              How I Met Your Mother     1.0    2/1/23 3:55  \n",
       "\n",
       "[106 rows x 4 columns]"
      ]
     },
     "execution_count": 3,
     "metadata": {},
     "output_type": "execute_result"
    }
   ],
   "source": [
    "import numpy as np\n",
    "import pandas as pd \n",
    "pd.read_csv('file:///Users/miah/Downloads/hulu-data1.csv')\n",
    "df = pd.read_csv('file:///Users/miah/Downloads/hulu-data1.csv')\n",
    "df.drop(df.index[108:249])\n",
    "df.drop(df.index[106:249])"
   ]
  },
  {
   "cell_type": "code",
   "execution_count": 4,
   "id": "b97d4b06",
   "metadata": {},
   "outputs": [
    {
     "data": {
      "text/plain": [
       "count       106\n",
       "unique      105\n",
       "top       Pilot\n",
       "freq          2\n",
       "Name: Episode Name, dtype: object"
      ]
     },
     "execution_count": 4,
     "metadata": {},
     "output_type": "execute_result"
    }
   ],
   "source": [
    "df[\"Episode Name\"].describe()"
   ]
  },
  {
   "cell_type": "code",
   "execution_count": 89,
   "id": "77234345",
   "metadata": {},
   "outputs": [
    {
     "data": {
      "text/plain": [
       "count                                   106\n",
       "unique                                   11\n",
       "top       Law & Order: Special Victims Unit\n",
       "freq                                     29\n",
       "Name: Series Name, dtype: object"
      ]
     },
     "execution_count": 89,
     "metadata": {},
     "output_type": "execute_result"
    }
   ],
   "source": [
    "df[\"Series Name\"].describe()"
   ]
  },
  {
   "cell_type": "code",
   "execution_count": 7,
   "id": "c782fd37",
   "metadata": {},
   "outputs": [
    {
     "data": {
      "text/html": [
       "<div>\n",
       "<style scoped>\n",
       "    .dataframe tbody tr th:only-of-type {\n",
       "        vertical-align: middle;\n",
       "    }\n",
       "\n",
       "    .dataframe tbody tr th {\n",
       "        vertical-align: top;\n",
       "    }\n",
       "\n",
       "    .dataframe thead th {\n",
       "        text-align: right;\n",
       "    }\n",
       "</style>\n",
       "<table border=\"1\" class=\"dataframe\">\n",
       "  <thead>\n",
       "    <tr style=\"text-align: right;\">\n",
       "      <th></th>\n",
       "      <th>Season</th>\n",
       "    </tr>\n",
       "  </thead>\n",
       "  <tbody>\n",
       "    <tr>\n",
       "      <th>count</th>\n",
       "      <td>106.000000</td>\n",
       "    </tr>\n",
       "    <tr>\n",
       "      <th>mean</th>\n",
       "      <td>8.509434</td>\n",
       "    </tr>\n",
       "    <tr>\n",
       "      <th>std</th>\n",
       "      <td>8.572653</td>\n",
       "    </tr>\n",
       "    <tr>\n",
       "      <th>min</th>\n",
       "      <td>1.000000</td>\n",
       "    </tr>\n",
       "    <tr>\n",
       "      <th>25%</th>\n",
       "      <td>1.250000</td>\n",
       "    </tr>\n",
       "    <tr>\n",
       "      <th>50%</th>\n",
       "      <td>3.000000</td>\n",
       "    </tr>\n",
       "    <tr>\n",
       "      <th>75%</th>\n",
       "      <td>17.000000</td>\n",
       "    </tr>\n",
       "    <tr>\n",
       "      <th>max</th>\n",
       "      <td>27.000000</td>\n",
       "    </tr>\n",
       "  </tbody>\n",
       "</table>\n",
       "</div>"
      ],
      "text/plain": [
       "           Season\n",
       "count  106.000000\n",
       "mean     8.509434\n",
       "std      8.572653\n",
       "min      1.000000\n",
       "25%      1.250000\n",
       "50%      3.000000\n",
       "75%     17.000000\n",
       "max     27.000000"
      ]
     },
     "execution_count": 7,
     "metadata": {},
     "output_type": "execute_result"
    }
   ],
   "source": [
    "df.describe()"
   ]
  },
  {
   "cell_type": "code",
   "execution_count": 91,
   "id": "c252ef21",
   "metadata": {},
   "outputs": [
    {
     "data": {
      "text/plain": [
       "count               106\n",
       "unique              100\n",
       "top       3/22/23 21:04\n",
       "freq                  2\n",
       "Name: Last Played At, dtype: object"
      ]
     },
     "execution_count": 91,
     "metadata": {},
     "output_type": "execute_result"
    }
   ],
   "source": [
    "df[\"Last Played At\"].describe()"
   ]
  },
  {
   "cell_type": "code",
   "execution_count": 11,
   "id": "0a339fbd",
   "metadata": {},
   "outputs": [
    {
     "name": "stdout",
     "output_type": "stream",
     "text": [
      "['Law & Order: Special Victims Unit' 'The Bear' 'Abbott Elementary'\n",
      " 'Not Dead Yet' 'History of the World, Part II' 'Homeland' 'The Bachelor'\n",
      " 'How I Met Your Mother' 'A Million Little Things' 'Big Sky'\n",
      " 'Modern Family' nan]\n"
     ]
    }
   ],
   "source": [
    "print(df[\"Series Name\"].unique())"
   ]
  },
  {
   "cell_type": "code",
   "execution_count": 13,
   "id": "ebc1208b",
   "metadata": {},
   "outputs": [
    {
     "name": "stdout",
     "output_type": "stream",
     "text": [
      "Series Name\n",
      "A Million Little Things               2\n",
      "Abbott Elementary                     9\n",
      "Big Sky                              10\n",
      "History of the World, Part II         4\n",
      "Homeland                             12\n",
      "How I Met Your Mother                22\n",
      "Law & Order: Special Victims Unit    29\n",
      "Modern Family                         2\n",
      "Not Dead Yet                          2\n",
      "The Bachelor                          6\n",
      "The Bear                              8\n",
      "dtype: int64\n"
     ]
    }
   ],
   "source": [
    "print(df.groupby(\"Series Name\").size())"
   ]
  },
  {
   "cell_type": "code",
   "execution_count": 51,
   "id": "9ef9569f",
   "metadata": {},
   "outputs": [
    {
     "name": "stdout",
     "output_type": "stream",
     "text": [
      "['3/22/23 21:04' '3/22/23 20:42' '3/22/23 20:40' '3/22/23 19:48'\n",
      " '3/22/23 2:51' '3/22/23 1:02' '3/22/23 0:37' '3/21/23 2:19'\n",
      " '3/21/23 2:18' '3/21/23 1:48' '3/20/23 23:47' '3/20/23 23:14'\n",
      " '3/20/23 2:40' '3/20/23 2:00' '3/20/23 1:28' '3/12/23 4:11'\n",
      " '3/12/23 4:10' '3/11/23 23:46' '3/11/23 23:44' '3/11/23 20:04'\n",
      " '3/11/23 19:51' '3/11/23 19:50' '3/11/23 19:48' '3/11/23 19:00'\n",
      " '3/11/23 18:57' '3/10/23 21:35' '3/10/23 21:07' '3/10/23 21:05'\n",
      " '3/10/23 19:55' '3/8/23 22:17' '3/8/23 21:03' '3/8/23 19:43'\n",
      " '3/8/23 3:20' '3/8/23 3:00' '3/8/23 2:36' '3/8/23 2:07' '3/8/23 1:19'\n",
      " '3/7/23 18:51' '3/7/23 14:53' '3/6/23 3:22' '3/6/23 2:15' '3/5/23 2:46'\n",
      " '3/4/23 2:35' '3/3/23 3:57' '3/3/23 3:27' '3/3/23 3:06' '3/2/23 18:46'\n",
      " '3/2/23 17:57' '3/2/23 17:31' '3/2/23 17:25' '3/2/23 8:46' '3/2/23 7:11'\n",
      " '3/2/23 3:13' '3/2/23 2:17' '3/1/23 3:03' '3/1/23 2:29' '3/1/23 2:18'\n",
      " '2/28/23 2:50' '2/28/23 1:45' '2/28/23 1:05' '2/27/23 3:43'\n",
      " '2/27/23 3:02' '2/25/23 3:50' '2/25/23 3:46' '2/23/23 3:29'\n",
      " '2/19/23 19:52' '2/19/23 19:31' '2/19/23 16:14' '2/18/23 23:30'\n",
      " '2/17/23 5:01' '2/17/23 4:40' '2/12/23 5:12' '2/12/23 4:41'\n",
      " '2/12/23 3:33' '2/12/23 2:33' '2/11/23 16:26' '2/10/23 4:25'\n",
      " '2/8/23 8:56' '2/8/23 8:05' '2/8/23 7:19' '2/8/23 5:40' '2/8/23 4:31'\n",
      " '2/7/23 18:39' '2/7/23 17:40' '2/7/23 3:45' '2/6/23 21:31' '2/6/23 20:35'\n",
      " '2/6/23 16:42' '2/6/23 15:54' '2/5/23 16:22' '2/4/23 19:13'\n",
      " '2/2/23 18:37' '2/2/23 18:01' '2/2/23 16:40' '2/2/23 16:12' '2/2/23 3:44'\n",
      " '2/2/23 3:18' '2/1/23 4:43' '2/1/23 4:20' '2/1/23 3:55' nan]\n"
     ]
    }
   ],
   "source": [
    "print(df[\"Last Played At\"].unique())"
   ]
  },
  {
   "cell_type": "code",
   "execution_count": 74,
   "id": "00575969",
   "metadata": {},
   "outputs": [
    {
     "name": "stdout",
     "output_type": "stream",
     "text": [
      "[18.  1.  2. 17. 16. 22.  8. 27. 20.  3.  6. nan]\n"
     ]
    }
   ],
   "source": [
    "print(df[\"Season\"].unique())"
   ]
  },
  {
   "cell_type": "code",
   "execution_count": 75,
   "id": "924fee37",
   "metadata": {},
   "outputs": [
    {
     "name": "stdout",
     "output_type": "stream",
     "text": [
      "Season\n",
      "1.0     27\n",
      "2.0     20\n",
      "3.0     10\n",
      "6.0      2\n",
      "8.0     12\n",
      "16.0     3\n",
      "17.0     9\n",
      "18.0     8\n",
      "20.0     4\n",
      "22.0     5\n",
      "27.0     6\n",
      "dtype: int64\n"
     ]
    }
   ],
   "source": [
    "print(df.groupby(\"Season\").size())"
   ]
  },
  {
   "cell_type": "code",
   "execution_count": 97,
   "id": "ab744502",
   "metadata": {},
   "outputs": [
    {
     "data": {
      "image/png": "[encoded data removed]",
      "text/plain": [
       "<Figure size 432x288 with 1 Axes>"
      ]
     },
     "metadata": {},
     "output_type": "display_data"
    }
   ],
   "source": [
    "import matplotlib.pyplot as plt\n",
    "import numpy as np\n",
    "\n",
    "y = np.array([2, 9, 10, 4, 12, 22, 29, 2, 2, 6, 8])\n",
    "mylabels = [\"A Million Little Things\", \"Abbott Elementary\", \"Big Sky\", \"History of the World Part II\", \"Homeland\", \"How I Met Your Mother\", \"Law and Order: Special Victims Unit\", \"Modern Family\", \"Not Dead Yet\", \"The Bachelor\", \"The Bear\"]\n",
    "myexplode = [0, 0, 0, 0, 0.1, 0.1, 0.1, 0, 0, 0, 0]\n",
    "\n",
    "plt.pie(y, labels = mylabels, explode = myexplode)\n",
    "plt.show() "
   ]
  },
  {
   "cell_type": "code",
   "execution_count": 125,
   "id": "360e6f90",
   "metadata": {},
   "outputs": [
    {
     "data": {
      "image/png": "[encoded data removed]",
      "text/plain": [
       "<Figure size 432x288 with 1 Axes>"
      ]
     },
     "metadata": {
      "needs_background": "light"
     },
     "output_type": "display_data"
    }
   ],
   "source": [
    "import matplotlib.pyplot as plt\n",
    "import numpy as np\n",
    "\n",
    "x = np.array([\"A Million Little Things\", \"Abbott Elementary\", \"Big Sky\", \"History of the World Part II\", \"Homeland\", \"How I Met Your Mother\", \"Law and Order: Special Victims Unit\", \"Modern Family\", \"Not Dead Yet\", \"The Bachelor\", \"The Bear\"])\n",
    "y = np.array([2, 9, 10, 4, 12, 22, 29, 2, 2, 6, 8])\n",
    "\n",
    "plt.title(\"Series Watch Frequency: February & March\")\n",
    "plt.xlabel(\"# of Episodes\")\n",
    "\n",
    "plt.barh(x,y, color=\"purple\")\n",
    "plt.show()"
   ]
  },
  {
   "cell_type": "code",
   "execution_count": 126,
   "id": "531ad80f",
   "metadata": {
    "scrolled": true
   },
   "outputs": [
    {
     "data": {
      "image/png": "[encoded data removed]",
      "text/plain": [
       "<Figure size 432x288 with 1 Axes>"
      ]
     },
     "metadata": {
      "needs_background": "light"
     },
     "output_type": "display_data"
    }
   ],
   "source": [
    "import matplotlib.pyplot as plt\n",
    "import numpy as np\n",
    "\n",
    "x = np.array(['3-22', '3-21',\n",
    " '3-20', '3-12', '3-11', '3-10','3-8',\n",
    " '3-7', '3-6', '3-5',\n",
    " '3-4', '3-3','3-2', '3-1',\n",
    " '2-28', '2-27', '2-25', '2-23',\n",
    " '2-19', '2-18', '2-17', '2-12', '2-11', '2-10',\n",
    " '2-8','2-7', '2-6','2-5','2-4',\n",
    " '2-2','2-1'])\n",
    "y = np.array([8, 3, 6, 2, 8, 4, 8, 2, 2, 1, 1, 3, 8, 3, 3, 2, 2, 1, 3, 1, 2, 4, 1, 1, 5, 3, 4, 1, 1, 6, 3])\n",
    "\n",
    "plt.title(\"February & March: Episodes Watched Per Day\")\n",
    "plt.xlabel(\"# of Episodes\")\n",
    "plt.ylabel(\"Date\")\n",
    "\n",
    "plt.barh(x,y, color=\"forestgreen\")\n",
    "plt.show()"
   ]
  },
  {
   "cell_type": "code",
   "execution_count": 141,
   "id": "629af6bc",
   "metadata": {},
   "outputs": [
    {
     "data": {
      "image/png": "[encoded data removed]",
      "text/plain": [
       "<Figure size 432x288 with 1 Axes>"
      ]
     },
     "metadata": {
      "needs_background": "light"
     },
     "output_type": "display_data"
    }
   ],
   "source": [
    "import numpy as np\n",
    "import matplotlib.pyplot as plt\n",
    "\n",
    "x = np.array(['3-1', '3-2', '3-3', '3-4', '3-5', '3-6', '3-7', \n",
    "             '3-8', '3-10', '3-11', '3-12', '3-20', '3-21', '3-22'])\n",
    "y = np.array([3, 8, 3, 1, 1, 2, 2, 8, 4, 8, 2, 6, 3, 8])\n",
    "\n",
    "plt.title(\"March: Episodes Watched Per Day\")\n",
    "plt.xlabel(\"Date\")\n",
    "plt.ylabel(\"# of Episodes\")\n",
    "\n",
    "plt.plot(x, y, marker='o', mec='black', mfc='black')\n",
    "plt.show()"
   ]
  },
  {
   "cell_type": "code",
   "execution_count": 140,
   "id": "8e44bd62",
   "metadata": {},
   "outputs": [
    {
     "data": {
      "image/png": "[encoded data removed]",
      "text/plain": [
       "<Figure size 432x288 with 1 Axes>"
      ]
     },
     "metadata": {
      "needs_background": "light"
     },
     "output_type": "display_data"
    }
   ],
   "source": [
    "import numpy as np\n",
    "import matplotlib.pyplot as plt\n",
    "\n",
    "x = np.array(['2-1', '2-2', '2-4', '2-5', '2-6', '2-7', '2-8', \n",
    " '2-10', '2-11', '2-12', '2-17', '2-18', '2-19', '2-23', '2-25', '2-27','2-28'])\n",
    "y = np.array([3, 6, 1, 1, 4, 3, 5, 1, 1, 4, 2, 1, 3, 1, 2, 2, 3])\n",
    "\n",
    "plt.title(\"February: Episodes Watched Per Day\")\n",
    "plt.xlabel(\"Date\")\n",
    "plt.ylabel(\"# of Episodes\")\n",
    "\n",
    "plt.plot(x, y, marker='o', mec='black', mfc='black')\n",
    "plt.show()"
   ]
  }
 ],
 "metadata": {
  "kernelspec": {
   "display_name": "Python 3",
   "language": "python",
   "name": "python3"
  },
  "language_info": {
   "codemirror_mode": {
    "name": "ipython",
    "version": 3
   },
   "file_extension": ".py",
   "mimetype": "text/x-python",
   "name": "python",
   "nbconvert_exporter": "python",
   "pygments_lexer": "ipython3",
   "version": "3.8.8"
  }
 },
 "nbformat": 4,
 "nbformat_minor": 5
}
