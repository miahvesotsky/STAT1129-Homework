{
 "cells": [
  {
   "cell_type": "code",
   "execution_count": 1,
   "id": "db95b2de",
   "metadata": {},
   "outputs": [
    {
     "name": "stdout",
     "output_type": "stream",
     "text": [
      "0\n",
      "1\n",
      "2\n",
      "3\n",
      "4\n"
     ]
    }
   ],
   "source": [
    "n = 0\n",
    "while n < 10:\n",
    "    print(n)\n",
    "    if n == 4:\n",
    "      break\n",
    "    n += 1"
   ]
  },
  {
   "cell_type": "code",
   "execution_count": 2,
   "id": "1577f6c5",
   "metadata": {},
   "outputs": [
    {
     "name": "stdout",
     "output_type": "stream",
     "text": [
      "0\n",
      "1\n",
      "2\n",
      "3\n",
      "4\n",
      "5 is not less than 5\n"
     ]
    }
   ],
   "source": [
    "n = 0 \n",
    "while n < 5:\n",
    "  print(n)\n",
    "  n += 1\n",
    "else:\n",
    "  print(\"5 is not less than 5\")"
   ]
  },
  {
   "cell_type": "code",
   "execution_count": 1,
   "id": "96f60d71",
   "metadata": {},
   "outputs": [
    {
     "name": "stdout",
     "output_type": "stream",
     "text": [
      "I like orange\n",
      "I like banana\n",
      "I like mango\n",
      "I like papaya\n",
      "apple is really a fruit?\n"
     ]
    }
   ],
   "source": [
    "fruits = [\"orange\", \"banana\", \"mango\", \"papaya\", \"apple\", \"peach\"] \n",
    "for fruit in fruits: \n",
    "    print(\"I like\", fruit)\n",
    "    if \"papaya\" in fruit:\n",
    "      break\n",
    "print(\"apple is really a fruit?\")"
   ]
  },
  {
   "cell_type": "code",
   "execution_count": 5,
   "id": "29a722c5",
   "metadata": {},
   "outputs": [
    {
     "name": "stdout",
     "output_type": "stream",
     "text": [
      "The sum is 465\n"
     ]
    }
   ],
   "source": [
    "n = 30\n",
    "sum = 0\n",
    "i = 1\n",
    "while i <= n:\n",
    "    sum = sum + i\n",
    "    i = i+1   \n",
    "print(\"The sum is\", sum)"
   ]
  },
  {
   "cell_type": "code",
   "execution_count": 6,
   "id": "90086f9a",
   "metadata": {},
   "outputs": [
    {
     "name": "stdout",
     "output_type": "stream",
     "text": [
      "B\n"
     ]
    }
   ],
   "source": [
    "grade = 87\n",
    "if grade <= 60:\n",
    "  print(\"F\")\n",
    "elif grade in range (60,70):\n",
    "  print(\"D\")\n",
    "elif grade in range (70,80):\n",
    "  print(\"C\")\n",
    "elif grade in range (80,90):\n",
    "  print(\"B\")\n",
    "elif grade in range (90,101):\n",
    "  print(\"A\")"
   ]
  },
  {
   "cell_type": "code",
   "execution_count": 2,
   "id": "0c3e122d",
   "metadata": {},
   "outputs": [
    {
     "name": "stdout",
     "output_type": "stream",
     "text": [
      "Andy 88\n",
      "Amy 66\n",
      "James 90\n",
      "Jules 55\n",
      "Arthur 77\n"
     ]
    }
   ],
   "source": [
    "marks = {'Andy': 88, 'Amy': 66, 'James': 90, 'Jules': 55, 'Arthur': 77} \n",
    "for name, grade in marks.items():\n",
    "  print(name,grade)"
   ]
  },
  {
   "cell_type": "code",
   "execution_count": 3,
   "id": "b4da795a",
   "metadata": {},
   "outputs": [
    {
     "name": "stdout",
     "output_type": "stream",
     "text": [
      "75.2\n",
      "90\n",
      "55\n"
     ]
    }
   ],
   "source": [
    "total = 0\n",
    "for grade in marks.values():\n",
    "  total += grade \n",
    "mean = total/len(marks)\n",
    "print(mean)\n",
    "max_grade = max(marks.values())\n",
    "print(max_grade)\n",
    "min_grade = min(marks.values())\n",
    "print(min_grade)"
   ]
  },
  {
   "cell_type": "code",
   "execution_count": 4,
   "id": "4385c07d",
   "metadata": {},
   "outputs": [
    {
     "name": "stdout",
     "output_type": "stream",
     "text": [
      "Andy\n",
      "Amy\n"
     ]
    }
   ],
   "source": [
    "for i in ['Andy', 'Amy', 'James', 'Jules', 'Arthur']:\n",
    "  if 'J' in i:\n",
    "    break\n",
    "  print(i)"
   ]
  },
  {
   "cell_type": "code",
   "execution_count": 5,
   "id": "f037ecc9",
   "metadata": {},
   "outputs": [
    {
     "name": "stdout",
     "output_type": "stream",
     "text": [
      "Andy\n",
      "Amy\n",
      "Arthur\n"
     ]
    }
   ],
   "source": [
    "for i in ['Andy', 'Amy', 'James', 'Jules', 'Arthur']:\n",
    "  if 'J' in i:\n",
    "    continue\n",
    "  print(i)"
   ]
  },
  {
   "cell_type": "code",
   "execution_count": null,
   "id": "836e158b",
   "metadata": {},
   "outputs": [],
   "source": []
  }
 ],
 "metadata": {
  "kernelspec": {
   "display_name": "Python 3",
   "language": "python",
   "name": "python3"
  },
  "language_info": {
   "codemirror_mode": {
    "name": "ipython",
    "version": 3
   },
   "file_extension": ".py",
   "mimetype": "text/x-python",
   "name": "python",
   "nbconvert_exporter": "python",
   "pygments_lexer": "ipython3",
   "version": "3.8.8"
  }
 },
 "nbformat": 4,
 "nbformat_minor": 5
}
