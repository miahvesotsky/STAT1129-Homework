{
 "cells": [
  {
   "cell_type": "code",
   "execution_count": 1,
   "id": "cbfe8ab3",
   "metadata": {},
   "outputs": [
    {
     "name": "stdout",
     "output_type": "stream",
     "text": [
      "90\n",
      "66\n",
      "No entry with that name found.\n"
     ]
    }
   ],
   "source": [
    "def print_student(student_name):\n",
    "  marks = {'Andy':88, 'Amy':66, 'James': 90, 'Jules': 55, 'Arthur': 77}\n",
    "  for student in marks:\n",
    "    if student == student_name:\n",
    "      print(marks[student])\n",
    "      break \n",
    "  else: \n",
    "    print('No entry with that name found.')\n",
    "  \n",
    "print_student('James')\n",
    "print_student('Amy')\n",
    "print_student('Emma')"
   ]
  },
  {
   "cell_type": "code",
   "execution_count": 2,
   "id": "9d1cb668",
   "metadata": {},
   "outputs": [
    {
     "name": "stdout",
     "output_type": "stream",
     "text": [
      "75.2\n"
     ]
    }
   ],
   "source": [
    "def print_average():\n",
    "  marks = {'Andy':88, 'Amy':66, 'James': 90, 'Jules': 55, 'Arthur': 77}\n",
    "  total = 0\n",
    "  for grade in marks.values():\n",
    "    total += grade \n",
    "  average = total/len(marks)\n",
    "  print(average)\n",
    "\n",
    "print_average()"
   ]
  },
  {
   "cell_type": "code",
   "execution_count": 3,
   "id": "49713f00",
   "metadata": {},
   "outputs": [
    {
     "name": "stdout",
     "output_type": "stream",
     "text": [
      "0 0\n",
      "1 1\n",
      "2 4\n",
      "3 9\n",
      "4 16\n",
      "5 25\n",
      "6 36\n",
      "7 49\n",
      "greater than 8\n"
     ]
    }
   ],
   "source": [
    "def printout(num):\n",
    "  n = 0 \n",
    "  while n < num:\n",
    "    print(n,n**2)\n",
    "    n += 1 \n",
    "  else:\n",
    "    print('greater than', num)\n",
    "\n",
    "printout(8)"
   ]
  },
  {
   "cell_type": "code",
   "execution_count": 4,
   "id": "8b3abcf4",
   "metadata": {},
   "outputs": [
    {
     "name": "stdout",
     "output_type": "stream",
     "text": [
      "120\n"
     ]
    }
   ],
   "source": [
    "def sumfunction(num):\n",
    "  n = 1 \n",
    "  sum = 0 \n",
    "  while n <= num:\n",
    "    sum = sum + n\n",
    "    n = n + 1\n",
    "  print(sum)\n",
    "\n",
    "sumfunction(15)"
   ]
  },
  {
   "cell_type": "code",
   "execution_count": 5,
   "id": "0765b992",
   "metadata": {},
   "outputs": [
    {
     "name": "stdout",
     "output_type": "stream",
     "text": [
      "0\n",
      "1\n",
      "3\n",
      "6\n",
      "10\n",
      "15\n",
      "21\n",
      "28\n"
     ]
    }
   ],
   "source": [
    "def range_sum(num):\n",
    "  sum = 0\n",
    "  for n in range (num):\n",
    "    sum = sum + n \n",
    "    print(sum)\n",
    "\n",
    "range_sum(8)"
   ]
  },
  {
   "cell_type": "code",
   "execution_count": 7,
   "id": "e55c7b85",
   "metadata": {},
   "outputs": [
    {
     "name": "stdout",
     "output_type": "stream",
     "text": [
      "50.0 4950 28.577380332470412\n"
     ]
    }
   ],
   "source": [
    "import numpy as np\n",
    "def stats(nums):\n",
    "  mean = np.mean(nums)\n",
    "  sum = np.sum(nums)\n",
    "  std = np.std(nums)\n",
    "  print(mean, sum, std)\n",
    "\n",
    "stats(range(1,100))"
   ]
  },
  {
   "cell_type": "code",
   "execution_count": 8,
   "id": "4a8d1fec",
   "metadata": {},
   "outputs": [
    {
     "data": {
      "text/plain": [
       "2"
      ]
     },
     "execution_count": 8,
     "metadata": {},
     "output_type": "execute_result"
    }
   ],
   "source": [
    "def min(v1, v2, v3, v4):\n",
    "  if v1<=v2 and v1<=v3 and v1<=v4:\n",
    "    return v1\n",
    "  if v2<=v1 and v2<=v3 and v2<=v4:\n",
    "    return v2\n",
    "  if v3<=v1 and v3<=v2 and v3<=v4:\n",
    "    return v3 \n",
    "  if v4<=v1 and v4<=v2 and v4<=v3:\n",
    "    return v4\n",
    "  \n",
    "min(98, 16, 2, 14)"
   ]
  },
  {
   "cell_type": "code",
   "execution_count": 9,
   "id": "c1cef75a",
   "metadata": {},
   "outputs": [
    {
     "name": "stdout",
     "output_type": "stream",
     "text": [
      "cherry, banana, grape \n"
     ]
    }
   ],
   "source": [
    "def concatenated_fruit():\n",
    "  fruit1 = 'cherry, '\n",
    "  fruit2 = 'banana, '\n",
    "  fruit3 = 'grape ' \n",
    "  fruit4 = fruit1 + fruit2 + fruit3\n",
    "  print(fruit4)\n",
    "\n",
    "concatenated_fruit()"
   ]
  },
  {
   "cell_type": "code",
   "execution_count": null,
   "id": "0bf9c248",
   "metadata": {},
   "outputs": [],
   "source": []
  }
 ],
 "metadata": {
  "kernelspec": {
   "display_name": "Python 3",
   "language": "python",
   "name": "python3"
  },
  "language_info": {
   "codemirror_mode": {
    "name": "ipython",
    "version": 3
   },
   "file_extension": ".py",
   "mimetype": "text/x-python",
   "name": "python",
   "nbconvert_exporter": "python",
   "pygments_lexer": "ipython3",
   "version": "3.8.8"
  }
 },
 "nbformat": 4,
 "nbformat_minor": 5
}
