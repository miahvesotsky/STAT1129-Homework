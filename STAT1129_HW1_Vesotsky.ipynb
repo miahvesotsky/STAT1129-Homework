{
 "cells": [
  {
   "cell_type": "code",
   "execution_count": 12,
   "id": "e152d6e2",
   "metadata": {},
   "outputs": [
    {
     "name": "stdout",
     "output_type": "stream",
     "text": [
      "[30, 35, 40, 45, 50, 55, 60]\n"
     ]
    }
   ],
   "source": [
    "nums = list(range(30, 65, 5))\n",
    "print(nums)"
   ]
  },
  {
   "cell_type": "code",
   "execution_count": 13,
   "id": "9bb70562",
   "metadata": {},
   "outputs": [
    {
     "name": "stdout",
     "output_type": "stream",
     "text": [
      "[60, 55, 50, 45, 40, 35, 30]\n"
     ]
    }
   ],
   "source": [
    "print(nums[::-1])"
   ]
  },
  {
   "cell_type": "code",
   "execution_count": 16,
   "id": "f66ad61a",
   "metadata": {},
   "outputs": [
    {
     "data": {
      "text/plain": [
       "[65, 60, 55, 50, 45, 40, 35, 30]"
      ]
     },
     "execution_count": 16,
     "metadata": {},
     "output_type": "execute_result"
    }
   ],
   "source": [
    "nums = [60, 55, 50, 45, 40, 35, 30]\n",
    "nums.insert(0, 65)\n",
    "nums"
   ]
  },
  {
   "cell_type": "code",
   "execution_count": 25,
   "id": "35b91e81",
   "metadata": {},
   "outputs": [
    {
     "data": {
      "text/plain": [
       "[0, 1, 2, 3, 4, 5, 6, 7, 8, 9, 10, 11, 12, 13, 14, 15, 16, 17, 18, 19, 20]"
      ]
     },
     "execution_count": 25,
     "metadata": {},
     "output_type": "execute_result"
    }
   ],
   "source": [
    "number_list = [ ]\n",
    "for item in range(0, 21):\n",
    "    number_list.append(item)\n",
    "number_list"
   ]
  },
  {
   "cell_type": "code",
   "execution_count": 26,
   "id": "a5bb58ca",
   "metadata": {},
   "outputs": [
    {
     "data": {
      "text/plain": [
       "[1, 2, 3, 4, 5, 6, 7, 8, 9, 10, 11, 12, 13, 14, 15, 16, 17, 18, 19, 20]"
      ]
     },
     "execution_count": 26,
     "metadata": {},
     "output_type": "execute_result"
    }
   ],
   "source": [
    "number_list.remove(0)\n",
    "number_list"
   ]
  },
  {
   "cell_type": "code",
   "execution_count": 27,
   "id": "aa6309c0",
   "metadata": {},
   "outputs": [
    {
     "name": "stdout",
     "output_type": "stream",
     "text": [
      "20\n"
     ]
    }
   ],
   "source": [
    "print(len(number_list))"
   ]
  },
  {
   "cell_type": "code",
   "execution_count": 28,
   "id": "d06f0fe0",
   "metadata": {},
   "outputs": [
    {
     "name": "stdout",
     "output_type": "stream",
     "text": [
      "20\n"
     ]
    }
   ],
   "source": [
    "print(max(number_list))"
   ]
  },
  {
   "cell_type": "code",
   "execution_count": 29,
   "id": "5ff3d043",
   "metadata": {},
   "outputs": [
    {
     "name": "stdout",
     "output_type": "stream",
     "text": [
      "1\n"
     ]
    }
   ],
   "source": [
    "print(min(number_list))"
   ]
  },
  {
   "cell_type": "code",
   "execution_count": 30,
   "id": "fc162195",
   "metadata": {},
   "outputs": [
    {
     "data": {
      "text/plain": [
       "210"
      ]
     },
     "execution_count": 30,
     "metadata": {},
     "output_type": "execute_result"
    }
   ],
   "source": [
    "sum(number_list)"
   ]
  },
  {
   "cell_type": "code",
   "execution_count": 44,
   "id": "cfaeb83a",
   "metadata": {},
   "outputs": [
    {
     "data": {
      "text/plain": [
       "{'sunny': 'play', 'rainy': 'watch TV', 'cloudy': 'walk'}"
      ]
     },
     "execution_count": 44,
     "metadata": {},
     "output_type": "execute_result"
    }
   ],
   "source": [
    "weather_activities = {\"sunny\": \"play\", \"rainy\": \"watch TV\", \"cloudy\": \"walk\"}\n",
    "weather_activities"
   ]
  },
  {
   "cell_type": "code",
   "execution_count": 45,
   "id": "380c756c",
   "metadata": {},
   "outputs": [
    {
     "name": "stdout",
     "output_type": "stream",
     "text": [
      "When sunny let us play\n",
      "When rainy let us watch TV\n",
      "When cloudy let us walk\n"
     ]
    }
   ],
   "source": [
    "for weather, activities in weather_activities.items():\n",
    "    print(f'When {weather} let us {activities}')"
   ]
  },
  {
   "cell_type": "code",
   "execution_count": 46,
   "id": "0ce7998e",
   "metadata": {},
   "outputs": [
    {
     "data": {
      "text/plain": [
       "{'sunny': 'play', 'rainy': 'watch TV', 'cloudy': 'walk', 'snowy': 'ski'}"
      ]
     },
     "execution_count": 46,
     "metadata": {},
     "output_type": "execute_result"
    }
   ],
   "source": [
    "weather_activities.update({\"snowy\":\"ski\"})\n",
    "weather_activities"
   ]
  }
 ],
 "metadata": {
  "kernelspec": {
   "display_name": "Python 3",
   "language": "python",
   "name": "python3"
  },
  "language_info": {
   "codemirror_mode": {
    "name": "ipython",
    "version": 3
   },
   "file_extension": ".py",
   "mimetype": "text/x-python",
   "name": "python",
   "nbconvert_exporter": "python",
   "pygments_lexer": "ipython3",
   "version": "3.8.8"
  }
 },
 "nbformat": 4,
 "nbformat_minor": 5
}
