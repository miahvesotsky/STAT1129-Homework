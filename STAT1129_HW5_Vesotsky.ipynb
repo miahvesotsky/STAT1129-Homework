{
 "cells": [
  {
   "cell_type": "code",
   "execution_count": 17,
   "id": "1f7c7824",
   "metadata": {},
   "outputs": [
    {
     "name": "stdout",
     "output_type": "stream",
     "text": [
      "True\n",
      "Jack\n",
      "pizza\n",
      "Sally\n",
      "27\n"
     ]
    }
   ],
   "source": [
    "class Human:\n",
    "    \n",
    "    class_attribute_1_arms = 2\n",
    "    class_attribute_2_brain = True \n",
    "    class_attribute_3_hair = True \n",
    "    class_attributes_4_toes = 10\n",
    "    \n",
    "    def __init__(self, name, favorite_food, age, address):\n",
    "        self.name = name \n",
    "        self.food = favorite_food \n",
    "        self.age = age \n",
    "        self.add = address\n",
    "        \n",
    "A = Human(name=\"Jack\", favorite_food=\"pizza\", age=16, address=\"12 Pine Street\")\n",
    "B = Human(name=\"Sally\", favorite_food=\"tacos\", age=27, address=\"3 Apple Lane\")\n",
    "\n",
    "print(A.class_attribute_2_brain)\n",
    "print(A.name)\n",
    "print(A.food)\n",
    "print(B.name)\n",
    "print(B.age)"
   ]
  },
  {
   "cell_type": "code",
   "execution_count": 55,
   "id": "29a7b71c",
   "metadata": {},
   "outputs": [
    {
     "name": "stdout",
     "output_type": "stream",
     "text": [
      "3.1622776601683795\n"
     ]
    }
   ],
   "source": [
    "import math\n",
    "    \n",
    "class Point:\n",
    "    def __init__(self, x = 0, y = 0):\n",
    "        self.x = x\n",
    "        self.y = y\n",
    "        \n",
    "    def distance_to_origin(self):\n",
    "        d = math.sqrt(self.x**2 + self.y**2)\n",
    "        return d\n",
    "\n",
    "A = Point(1, 3)\n",
    "d = A.distance_to_origin()\n",
    "print(d)"
   ]
  },
  {
   "cell_type": "code",
   "execution_count": 20,
   "id": "d18f2a5d",
   "metadata": {},
   "outputs": [
    {
     "ename": "AttributeError",
     "evalue": "'B' object has no attribute 'i'",
     "output_type": "error",
     "traceback": [
      "\u001b[0;31m---------------------------------------------------------------------------\u001b[0m",
      "\u001b[0;31mAttributeError\u001b[0m                            Traceback (most recent call last)",
      "\u001b[0;32m<ipython-input-20-080237321752>\u001b[0m in \u001b[0;36m<module>\u001b[0;34m\u001b[0m\n\u001b[1;32m     12\u001b[0m     \u001b[0mprint\u001b[0m\u001b[0;34m(\u001b[0m\u001b[0mb\u001b[0m\u001b[0;34m.\u001b[0m\u001b[0mj\u001b[0m\u001b[0;34m)\u001b[0m\u001b[0;34m\u001b[0m\u001b[0;34m\u001b[0m\u001b[0m\n\u001b[1;32m     13\u001b[0m \u001b[0;34m\u001b[0m\u001b[0m\n\u001b[0;32m---> 14\u001b[0;31m \u001b[0mmain\u001b[0m\u001b[0;34m(\u001b[0m\u001b[0;34m)\u001b[0m\u001b[0;34m\u001b[0m\u001b[0;34m\u001b[0m\u001b[0m\n\u001b[0m",
      "\u001b[0;32m<ipython-input-20-080237321752>\u001b[0m in \u001b[0;36mmain\u001b[0;34m()\u001b[0m\n\u001b[1;32m      9\u001b[0m \u001b[0;32mdef\u001b[0m \u001b[0mmain\u001b[0m\u001b[0;34m(\u001b[0m\u001b[0;34m)\u001b[0m\u001b[0;34m:\u001b[0m\u001b[0;34m\u001b[0m\u001b[0;34m\u001b[0m\u001b[0m\n\u001b[1;32m     10\u001b[0m     \u001b[0mb\u001b[0m \u001b[0;34m=\u001b[0m \u001b[0mB\u001b[0m\u001b[0;34m(\u001b[0m\u001b[0;34m)\u001b[0m\u001b[0;34m\u001b[0m\u001b[0;34m\u001b[0m\u001b[0m\n\u001b[0;32m---> 11\u001b[0;31m     \u001b[0mprint\u001b[0m\u001b[0;34m(\u001b[0m\u001b[0mb\u001b[0m\u001b[0;34m.\u001b[0m\u001b[0mi\u001b[0m\u001b[0;34m)\u001b[0m\u001b[0;34m\u001b[0m\u001b[0;34m\u001b[0m\u001b[0m\n\u001b[0m\u001b[1;32m     12\u001b[0m     \u001b[0mprint\u001b[0m\u001b[0;34m(\u001b[0m\u001b[0mb\u001b[0m\u001b[0;34m.\u001b[0m\u001b[0mj\u001b[0m\u001b[0;34m)\u001b[0m\u001b[0;34m\u001b[0m\u001b[0;34m\u001b[0m\u001b[0m\n\u001b[1;32m     13\u001b[0m \u001b[0;34m\u001b[0m\u001b[0m\n",
      "\u001b[0;31mAttributeError\u001b[0m: 'B' object has no attribute 'i'"
     ]
    }
   ],
   "source": [
    "class A:\n",
    "    def __init__(self, i = 0):\n",
    "        self.i = i \n",
    "\n",
    "class B(A):\n",
    "    def __init__(self, j = 0):\n",
    "        self.j = j\n",
    "\n",
    "def main():\n",
    "    b = B()\n",
    "    print(b.i)\n",
    "    print(b.j)\n",
    "\n",
    "main()"
   ]
  },
  {
   "cell_type": "code",
   "execution_count": 21,
   "id": "d77c39ff",
   "metadata": {},
   "outputs": [
    {
     "name": "stdout",
     "output_type": "stream",
     "text": [
      "hello world\n"
     ]
    }
   ],
   "source": [
    "def main():\n",
    "    print(\"hello \", end=\"\")\n",
    "    \n",
    "try:\n",
    "    if __name__ == \"__main__\":\n",
    "        main()\n",
    "\n",
    "except:\n",
    "    print(\"name\")\n",
    "finally:\n",
    "    print(\"world\")"
   ]
  },
  {
   "cell_type": "code",
   "execution_count": 47,
   "id": "a9469af3",
   "metadata": {},
   "outputs": [
    {
     "name": "stdout",
     "output_type": "stream",
     "text": [
      "Sally\n"
     ]
    }
   ],
   "source": [
    "class People():\n",
    "    def __init__(self, name):\n",
    "        self.name = name \n",
    "    \n",
    "    def namePrint(self):\n",
    "        print(self.name)\n",
    "\n",
    "person1 = People(\"Sally\")\n",
    "person2 = People(\"Louise\")\n",
    "\n",
    "person1.namePrint()"
   ]
  },
  {
   "cell_type": "code",
   "execution_count": 40,
   "id": "135217ca",
   "metadata": {},
   "outputs": [
    {
     "ename": "TypeError",
     "evalue": "Only intergers are allowed",
     "output_type": "error",
     "traceback": [
      "\u001b[0;31m---------------------------------------------------------------------------\u001b[0m",
      "\u001b[0;31mTypeError\u001b[0m                                 Traceback (most recent call last)",
      "\u001b[0;32m<ipython-input-40-101ead8c51f0>\u001b[0m in \u001b[0;36m<module>\u001b[0;34m\u001b[0m\n\u001b[1;32m      1\u001b[0m \u001b[0mx\u001b[0m \u001b[0;34m=\u001b[0m \u001b[0;34m\"hello\"\u001b[0m\u001b[0;34m\u001b[0m\u001b[0;34m\u001b[0m\u001b[0m\n\u001b[1;32m      2\u001b[0m \u001b[0;32mif\u001b[0m \u001b[0;32mnot\u001b[0m \u001b[0mtype\u001b[0m\u001b[0;34m(\u001b[0m\u001b[0mx\u001b[0m\u001b[0;34m)\u001b[0m \u001b[0;32mis\u001b[0m \u001b[0mint\u001b[0m\u001b[0;34m:\u001b[0m\u001b[0;34m\u001b[0m\u001b[0;34m\u001b[0m\u001b[0m\n\u001b[0;32m----> 3\u001b[0;31m     \u001b[0;32mraise\u001b[0m \u001b[0mTypeError\u001b[0m\u001b[0;34m(\u001b[0m\u001b[0;34m\"Only intergers are allowed\"\u001b[0m\u001b[0;34m)\u001b[0m\u001b[0;34m\u001b[0m\u001b[0;34m\u001b[0m\u001b[0m\n\u001b[0m",
      "\u001b[0;31mTypeError\u001b[0m: Only intergers are allowed"
     ]
    }
   ],
   "source": [
    "x = \"hello\"\n",
    "if not type(x) is int:\n",
    "    raise TypeError(\"Only integers are allowed\")"
   ]
  }
 ],
 "metadata": {
  "kernelspec": {
   "display_name": "Python 3",
   "language": "python",
   "name": "python3"
  },
  "language_info": {
   "codemirror_mode": {
    "name": "ipython",
    "version": 3
   },
   "file_extension": ".py",
   "mimetype": "text/x-python",
   "name": "python",
   "nbconvert_exporter": "python",
   "pygments_lexer": "ipython3",
   "version": "3.8.8"
  }
 },
 "nbformat": 4,
 "nbformat_minor": 5
}
